{
 "cells": [
  {
   "cell_type": "code",
   "execution_count": 1,
   "metadata": {},
   "outputs": [],
   "source": [
    "import numpy as np\n",
    "import pandas as pd"
   ]
  },
  {
   "cell_type": "code",
   "execution_count": 2,
   "metadata": {},
   "outputs": [
    {
     "name": "stdout",
     "output_type": "stream",
     "text": [
      "Given data is: \n",
      "        imdb_id  imdb_rating  imdb_votes\n",
      "0     tt8291224          8.4       35112\n",
      "1     tt9472208          4.1          73\n",
      "2     tt6986710          6.1        5549\n",
      "3     tt8108208          6.0        1891\n",
      "4     tt6028796          7.3         280\n",
      "..          ...          ...         ...\n",
      "917   tt7997334          0.0           0\n",
      "918   tt4718678          0.0           0\n",
      "919  tt10635372          0.0           0\n",
      "920   tt3482198          0.0           0\n",
      "921   tt1680317          0.0           0\n",
      "\n",
      "[922 rows x 3 columns]\n"
     ]
    }
   ],
   "source": [
    "df=pd.read_csv(\"bollywood.csv\")\n",
    "print(f\"Given data is: \\n{df}\")"
   ]
  },
  {
   "cell_type": "code",
   "execution_count": 3,
   "metadata": {},
   "outputs": [],
   "source": [
    "idx = df[ df['imdb_votes'] < 2500 ].index\n",
    "df.drop(idx , inplace = True)"
   ]
  },
  {
   "cell_type": "code",
   "execution_count": 4,
   "metadata": {},
   "outputs": [
    {
     "name": "stdout",
     "output_type": "stream",
     "text": [
      "Updated data after adding a column of Rating based on Bayesian Average: \n",
      "       imdb_id  imdb_rating  imdb_votes   bavg_rating\n",
      "0    tt8291224          8.4       35112  1.320667e+09\n",
      "2    tt6986710          6.1        5549  4.469290e+07\n",
      "8    tt6903440          6.5        7361  7.261682e+07\n",
      "11   tt2395469          8.2       22440  5.596878e+08\n",
      "13   tt7639372          4.3        4817  3.527049e+07\n",
      "..         ...          ...         ...           ...\n",
      "896  tt1572311          2.5       10417  1.345764e+08\n",
      "901  tt1667838          5.6        7059  6.750473e+07\n",
      "903  tt1499201          5.8        5697  4.672656e+07\n",
      "906  tt1396208          4.2        5094  3.870809e+07\n",
      "914  tt4303010          7.1       15895  2.924200e+08\n",
      "\n",
      "[356 rows x 4 columns]\n"
     ]
    }
   ],
   "source": [
    "df['bavg_rating'] = df.apply(lambda row: row.imdb_votes*row.imdb_votes + 2500*row.imdb_rating + 2500*row.imdb_votes + 2500*5.5, axis = 1)\n",
    "print(f\"Updated data after adding a column of Rating based on Bayesian Average: \\n{df}\")"
   ]
  },
  {
   "cell_type": "code",
   "execution_count": 5,
   "metadata": {},
   "outputs": [
    {
     "name": "stdout",
     "output_type": "stream",
     "text": [
      "Top 10 movies are:\n",
      "       imdb_id  imdb_rating  imdb_votes   bavg_rating\n",
      "561  tt2338151          8.1      143605  2.098144e+10\n",
      "336  tt5074352          8.4      131338  1.757805e+10\n",
      "824  tt1188996          8.0       92755  8.835411e+09\n",
      "688  tt1954470          8.2       71636  5.310841e+09\n",
      "695  tt1954470          8.2       71636  5.310841e+09\n",
      "704  tt2082197          8.1       70443  5.138358e+09\n",
      "343  tt3863552          8.0       65877  4.504505e+09\n",
      "773  tt1562872          8.1       60826  3.851901e+09\n",
      "407  tt4430212          8.2       58340  3.549440e+09\n",
      "453  tt2574698          2.3       56670  3.353183e+09\n"
     ]
    }
   ],
   "source": [
    "df.sort_values(by = 'bavg_rating', inplace = True, ascending = False)\n",
    "print(f\"Top 10 movies are:\\n{df.head(10)}\")"
   ]
  },
  {
   "cell_type": "code",
   "execution_count": null,
   "metadata": {},
   "outputs": [],
   "source": []
  }
 ],
 "metadata": {
  "kernelspec": {
   "display_name": "Python 3",
   "language": "python",
   "name": "python3"
  },
  "language_info": {
   "codemirror_mode": {
    "name": "ipython",
    "version": 3
   },
   "file_extension": ".py",
   "mimetype": "text/x-python",
   "name": "python",
   "nbconvert_exporter": "python",
   "pygments_lexer": "ipython3",
   "version": "3.7.6"
  }
 },
 "nbformat": 4,
 "nbformat_minor": 4
}
